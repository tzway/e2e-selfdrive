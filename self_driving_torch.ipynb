{
 "cells": [
  {
   "cell_type": "code",
   "execution_count": 2,
   "id": "4924c8a1",
   "metadata": {},
   "outputs": [
    {
     "name": "stdout",
     "output_type": "stream",
     "text": [
      "Using device: cuda\n"
     ]
    }
   ],
   "source": [
    "\n",
    "import os\n",
    "import numpy as np\n",
    "import matplotlib.pyplot as plt\n",
    "import matplotlib.image as mpimg\n",
    "import cv2\n",
    "import pandas as pd\n",
    "import ntpath\n",
    "import random\n",
    "from sklearn.utils import shuffle\n",
    "from sklearn.model_selection import train_test_split\n",
    "import torch\n",
    "import torch.nn as nn\n",
    "import torch.optim as optim\n",
    "from torch.utils.data import Dataset, DataLoader\n",
    "from torchvision.transforms import Compose, Lambda\n",
    "from torchvision.transforms.functional import gaussian_blur\n",
    "import torch.nn.functional as F\n",
    "from imgaug import augmenters as iaa\n",
    "\n",
    "# Set device for CUDA acceleration\n",
    "device = torch.device('cuda' if torch.cuda.is_available() else 'cpu')\n",
    "print(f'Using device: {device}')\n"
   ]
  },
  {
   "cell_type": "code",
   "execution_count": 3,
   "id": "0b7f796d",
   "metadata": {},
   "outputs": [
    {
     "data": {
      "text/html": [
       "<div>\n",
       "<style scoped>\n",
       "    .dataframe tbody tr th:only-of-type {\n",
       "        vertical-align: middle;\n",
       "    }\n",
       "\n",
       "    .dataframe tbody tr th {\n",
       "        vertical-align: top;\n",
       "    }\n",
       "\n",
       "    .dataframe thead th {\n",
       "        text-align: right;\n",
       "    }\n",
       "</style>\n",
       "<table border=\"1\" class=\"dataframe\">\n",
       "  <thead>\n",
       "    <tr style=\"text-align: right;\">\n",
       "      <th></th>\n",
       "      <th>center</th>\n",
       "      <th>left</th>\n",
       "      <th>right</th>\n",
       "      <th>steering</th>\n",
       "      <th>throttle</th>\n",
       "      <th>reverse</th>\n",
       "      <th>speed</th>\n",
       "    </tr>\n",
       "  </thead>\n",
       "  <tbody>\n",
       "    <tr>\n",
       "      <th>0</th>\n",
       "      <td>C:\\Users\\Amer\\Desktop\\new_track\\IMG\\center_2018_07_16_17_11_43_382.jpg</td>\n",
       "      <td>C:\\Users\\Amer\\Desktop\\new_track\\IMG\\left_2018_07_16_17_11_43_382.jpg</td>\n",
       "      <td>C:\\Users\\Amer\\Desktop\\new_track\\IMG\\right_2018_07_16_17_11_43_382.jpg</td>\n",
       "      <td>0.0</td>\n",
       "      <td>0.0</td>\n",
       "      <td>0.0</td>\n",
       "      <td>0.649786</td>\n",
       "    </tr>\n",
       "    <tr>\n",
       "      <th>1</th>\n",
       "      <td>C:\\Users\\Amer\\Desktop\\new_track\\IMG\\center_2018_07_16_17_11_43_670.jpg</td>\n",
       "      <td>C:\\Users\\Amer\\Desktop\\new_track\\IMG\\left_2018_07_16_17_11_43_670.jpg</td>\n",
       "      <td>C:\\Users\\Amer\\Desktop\\new_track\\IMG\\right_2018_07_16_17_11_43_670.jpg</td>\n",
       "      <td>0.0</td>\n",
       "      <td>0.0</td>\n",
       "      <td>0.0</td>\n",
       "      <td>0.627942</td>\n",
       "    </tr>\n",
       "    <tr>\n",
       "      <th>2</th>\n",
       "      <td>C:\\Users\\Amer\\Desktop\\new_track\\IMG\\center_2018_07_16_17_11_43_724.jpg</td>\n",
       "      <td>C:\\Users\\Amer\\Desktop\\new_track\\IMG\\left_2018_07_16_17_11_43_724.jpg</td>\n",
       "      <td>C:\\Users\\Amer\\Desktop\\new_track\\IMG\\right_2018_07_16_17_11_43_724.jpg</td>\n",
       "      <td>0.0</td>\n",
       "      <td>0.0</td>\n",
       "      <td>0.0</td>\n",
       "      <td>0.622910</td>\n",
       "    </tr>\n",
       "    <tr>\n",
       "      <th>3</th>\n",
       "      <td>C:\\Users\\Amer\\Desktop\\new_track\\IMG\\center_2018_07_16_17_11_43_792.jpg</td>\n",
       "      <td>C:\\Users\\Amer\\Desktop\\new_track\\IMG\\left_2018_07_16_17_11_43_792.jpg</td>\n",
       "      <td>C:\\Users\\Amer\\Desktop\\new_track\\IMG\\right_2018_07_16_17_11_43_792.jpg</td>\n",
       "      <td>0.0</td>\n",
       "      <td>0.0</td>\n",
       "      <td>0.0</td>\n",
       "      <td>0.619162</td>\n",
       "    </tr>\n",
       "    <tr>\n",
       "      <th>4</th>\n",
       "      <td>C:\\Users\\Amer\\Desktop\\new_track\\IMG\\center_2018_07_16_17_11_43_860.jpg</td>\n",
       "      <td>C:\\Users\\Amer\\Desktop\\new_track\\IMG\\left_2018_07_16_17_11_43_860.jpg</td>\n",
       "      <td>C:\\Users\\Amer\\Desktop\\new_track\\IMG\\right_2018_07_16_17_11_43_860.jpg</td>\n",
       "      <td>0.0</td>\n",
       "      <td>0.0</td>\n",
       "      <td>0.0</td>\n",
       "      <td>0.615438</td>\n",
       "    </tr>\n",
       "  </tbody>\n",
       "</table>\n",
       "</div>"
      ],
      "text/plain": [
       "                                                                   center  \\\n",
       "0  C:\\Users\\Amer\\Desktop\\new_track\\IMG\\center_2018_07_16_17_11_43_382.jpg   \n",
       "1  C:\\Users\\Amer\\Desktop\\new_track\\IMG\\center_2018_07_16_17_11_43_670.jpg   \n",
       "2  C:\\Users\\Amer\\Desktop\\new_track\\IMG\\center_2018_07_16_17_11_43_724.jpg   \n",
       "3  C:\\Users\\Amer\\Desktop\\new_track\\IMG\\center_2018_07_16_17_11_43_792.jpg   \n",
       "4  C:\\Users\\Amer\\Desktop\\new_track\\IMG\\center_2018_07_16_17_11_43_860.jpg   \n",
       "\n",
       "                                                                   left  \\\n",
       "0  C:\\Users\\Amer\\Desktop\\new_track\\IMG\\left_2018_07_16_17_11_43_382.jpg   \n",
       "1  C:\\Users\\Amer\\Desktop\\new_track\\IMG\\left_2018_07_16_17_11_43_670.jpg   \n",
       "2  C:\\Users\\Amer\\Desktop\\new_track\\IMG\\left_2018_07_16_17_11_43_724.jpg   \n",
       "3  C:\\Users\\Amer\\Desktop\\new_track\\IMG\\left_2018_07_16_17_11_43_792.jpg   \n",
       "4  C:\\Users\\Amer\\Desktop\\new_track\\IMG\\left_2018_07_16_17_11_43_860.jpg   \n",
       "\n",
       "                                                                   right  \\\n",
       "0  C:\\Users\\Amer\\Desktop\\new_track\\IMG\\right_2018_07_16_17_11_43_382.jpg   \n",
       "1  C:\\Users\\Amer\\Desktop\\new_track\\IMG\\right_2018_07_16_17_11_43_670.jpg   \n",
       "2  C:\\Users\\Amer\\Desktop\\new_track\\IMG\\right_2018_07_16_17_11_43_724.jpg   \n",
       "3  C:\\Users\\Amer\\Desktop\\new_track\\IMG\\right_2018_07_16_17_11_43_792.jpg   \n",
       "4  C:\\Users\\Amer\\Desktop\\new_track\\IMG\\right_2018_07_16_17_11_43_860.jpg   \n",
       "\n",
       "   steering  throttle  reverse     speed  \n",
       "0       0.0       0.0      0.0  0.649786  \n",
       "1       0.0       0.0      0.0  0.627942  \n",
       "2       0.0       0.0      0.0  0.622910  \n",
       "3       0.0       0.0      0.0  0.619162  \n",
       "4       0.0       0.0      0.0  0.615438  "
      ]
     },
     "execution_count": 3,
     "metadata": {},
     "output_type": "execute_result"
    }
   ],
   "source": [
    "\n",
    "datadir = 'track'\n",
    "columns = ['center', 'left', 'right',\n",
    "           'steering', 'throttle', 'reverse', 'speed']\n",
    "data = pd.read_csv(os.path.join(datadir, 'driving_log.csv'), names=columns)\n",
    "pd.set_option('display.max_colwidth', None)\n",
    "data.head()\n"
   ]
  },
  {
   "cell_type": "code",
   "execution_count": 4,
   "id": "5e752824",
   "metadata": {},
   "outputs": [
    {
     "data": {
      "text/html": [
       "<div>\n",
       "<style scoped>\n",
       "    .dataframe tbody tr th:only-of-type {\n",
       "        vertical-align: middle;\n",
       "    }\n",
       "\n",
       "    .dataframe tbody tr th {\n",
       "        vertical-align: top;\n",
       "    }\n",
       "\n",
       "    .dataframe thead th {\n",
       "        text-align: right;\n",
       "    }\n",
       "</style>\n",
       "<table border=\"1\" class=\"dataframe\">\n",
       "  <thead>\n",
       "    <tr style=\"text-align: right;\">\n",
       "      <th></th>\n",
       "      <th>center</th>\n",
       "      <th>left</th>\n",
       "      <th>right</th>\n",
       "      <th>steering</th>\n",
       "      <th>throttle</th>\n",
       "      <th>reverse</th>\n",
       "      <th>speed</th>\n",
       "    </tr>\n",
       "  </thead>\n",
       "  <tbody>\n",
       "    <tr>\n",
       "      <th>0</th>\n",
       "      <td>center_2018_07_16_17_11_43_382.jpg</td>\n",
       "      <td>left_2018_07_16_17_11_43_382.jpg</td>\n",
       "      <td>right_2018_07_16_17_11_43_382.jpg</td>\n",
       "      <td>0.0</td>\n",
       "      <td>0.0</td>\n",
       "      <td>0.0</td>\n",
       "      <td>0.649786</td>\n",
       "    </tr>\n",
       "    <tr>\n",
       "      <th>1</th>\n",
       "      <td>center_2018_07_16_17_11_43_670.jpg</td>\n",
       "      <td>left_2018_07_16_17_11_43_670.jpg</td>\n",
       "      <td>right_2018_07_16_17_11_43_670.jpg</td>\n",
       "      <td>0.0</td>\n",
       "      <td>0.0</td>\n",
       "      <td>0.0</td>\n",
       "      <td>0.627942</td>\n",
       "    </tr>\n",
       "    <tr>\n",
       "      <th>2</th>\n",
       "      <td>center_2018_07_16_17_11_43_724.jpg</td>\n",
       "      <td>left_2018_07_16_17_11_43_724.jpg</td>\n",
       "      <td>right_2018_07_16_17_11_43_724.jpg</td>\n",
       "      <td>0.0</td>\n",
       "      <td>0.0</td>\n",
       "      <td>0.0</td>\n",
       "      <td>0.622910</td>\n",
       "    </tr>\n",
       "    <tr>\n",
       "      <th>3</th>\n",
       "      <td>center_2018_07_16_17_11_43_792.jpg</td>\n",
       "      <td>left_2018_07_16_17_11_43_792.jpg</td>\n",
       "      <td>right_2018_07_16_17_11_43_792.jpg</td>\n",
       "      <td>0.0</td>\n",
       "      <td>0.0</td>\n",
       "      <td>0.0</td>\n",
       "      <td>0.619162</td>\n",
       "    </tr>\n",
       "    <tr>\n",
       "      <th>4</th>\n",
       "      <td>center_2018_07_16_17_11_43_860.jpg</td>\n",
       "      <td>left_2018_07_16_17_11_43_860.jpg</td>\n",
       "      <td>right_2018_07_16_17_11_43_860.jpg</td>\n",
       "      <td>0.0</td>\n",
       "      <td>0.0</td>\n",
       "      <td>0.0</td>\n",
       "      <td>0.615438</td>\n",
       "    </tr>\n",
       "  </tbody>\n",
       "</table>\n",
       "</div>"
      ],
      "text/plain": [
       "                               center                              left  \\\n",
       "0  center_2018_07_16_17_11_43_382.jpg  left_2018_07_16_17_11_43_382.jpg   \n",
       "1  center_2018_07_16_17_11_43_670.jpg  left_2018_07_16_17_11_43_670.jpg   \n",
       "2  center_2018_07_16_17_11_43_724.jpg  left_2018_07_16_17_11_43_724.jpg   \n",
       "3  center_2018_07_16_17_11_43_792.jpg  left_2018_07_16_17_11_43_792.jpg   \n",
       "4  center_2018_07_16_17_11_43_860.jpg  left_2018_07_16_17_11_43_860.jpg   \n",
       "\n",
       "                               right  steering  throttle  reverse     speed  \n",
       "0  right_2018_07_16_17_11_43_382.jpg       0.0       0.0      0.0  0.649786  \n",
       "1  right_2018_07_16_17_11_43_670.jpg       0.0       0.0      0.0  0.627942  \n",
       "2  right_2018_07_16_17_11_43_724.jpg       0.0       0.0      0.0  0.622910  \n",
       "3  right_2018_07_16_17_11_43_792.jpg       0.0       0.0      0.0  0.619162  \n",
       "4  right_2018_07_16_17_11_43_860.jpg       0.0       0.0      0.0  0.615438  "
      ]
     },
     "execution_count": 4,
     "metadata": {},
     "output_type": "execute_result"
    }
   ],
   "source": [
    "def path_leaf(path):\n",
    "    head, tail = ntpath.split(path)\n",
    "    return tail\n",
    "\n",
    "\n",
    "data['center'] = data['center'].apply(path_leaf)\n",
    "data['left'] = data['left'].apply(path_leaf)\n",
    "data['right'] = data['right'].apply(path_leaf)\n",
    "data.head()\n"
   ]
  },
  {
   "cell_type": "code",
   "execution_count": 5,
   "id": "708345ea",
   "metadata": {},
   "outputs": [
    {
     "data": {
      "text/plain": [
       "[<matplotlib.lines.Line2D at 0x7fb736162bb0>]"
      ]
     },
     "execution_count": 5,
     "metadata": {},
     "output_type": "execute_result"
    },
    {
     "data": {
      "image/png": "[encoded data removed]",
      "text/plain": [
       "<Figure size 640x480 with 1 Axes>"
      ]
     },
     "metadata": {},
     "output_type": "display_data"
    }
   ],
   "source": [
    "\n",
    "num_bins = 25\n",
    "samples_per_bin = 400\n",
    "hist, bins = np.histogram(data['steering'], num_bins)\n",
    "center = (bins[:-1] + bins[1:]) * 0.5\n",
    "plt.bar(center, hist, width=0.05)\n",
    "plt.plot((np.min(data['steering']), np.max(\n",
    "    data['steering'])), (samples_per_bin, samples_per_bin))\n"
   ]
  },
  {
   "cell_type": "code",
   "execution_count": 6,
   "id": "e5ddc3dc",
   "metadata": {},
   "outputs": [
    {
     "name": "stdout",
     "output_type": "stream",
     "text": [
      "Removed: 2590\n",
      "Remaining: 1463\n"
     ]
    }
   ],
   "source": [
    "\n",
    "remove_list = []\n",
    "for j in range(num_bins):\n",
    "    list_ = []\n",
    "    for i in range(len(data['steering'])):\n",
    "        if bins[j] <= data['steering'][i] <= bins[j+1]:\n",
    "            list_.append(i)\n",
    "    list_ = shuffle(list_)\n",
    "    remove_list.extend(list_[samples_per_bin:])\n",
    "\n",
    "print('Removed:', len(remove_list))\n",
    "data.drop(data.index[remove_list], inplace=True)\n",
    "print('Remaining:', len(data))\n"
   ]
  },
  {
   "cell_type": "code",
   "execution_count": 7,
   "id": "6c529a0e",
   "metadata": {},
   "outputs": [
    {
     "data": {
      "text/plain": [
       "[<matplotlib.lines.Line2D at 0x7fb735fbe1c0>]"
      ]
     },
     "execution_count": 7,
     "metadata": {},
     "output_type": "execute_result"
    },
    {
     "data": {
      "image/png": "[encoded data removed]",
      "text/plain": [
       "<Figure size 640x480 with 1 Axes>"
      ]
     },
     "metadata": {},
     "output_type": "display_data"
    }
   ],
   "source": [
    "\n",
    "hist, _ = np.histogram(data['steering'], num_bins)\n",
    "plt.bar(center, hist, width=0.05)\n",
    "plt.plot((np.min(data['steering']), np.max(\n",
    "    data['steering'])), (samples_per_bin, samples_per_bin))\n"
   ]
  },
  {
   "cell_type": "code",
   "execution_count": 8,
   "id": "b08c4b0e",
   "metadata": {},
   "outputs": [],
   "source": [
    "\n",
    "def load_img_steering(datadir, df):\n",
    "    image_path = []\n",
    "    steering = []\n",
    "    for i in range(len(data)):\n",
    "        indexed_data = data.iloc[i]\n",
    "        center, left, right = indexed_data[0], indexed_data[1], indexed_data[2]\n",
    "        image_path.append(os.path.join(datadir, center.strip()))\n",
    "        steering.append(float(indexed_data[3]))\n",
    "        # Left image\n",
    "        image_path.append(os.path.join(datadir, left.strip()))\n",
    "        steering.append(float(indexed_data[3]) + 0.15)\n",
    "        # Right image\n",
    "        image_path.append(os.path.join(datadir, right.strip()))\n",
    "        steering.append(float(indexed_data[3]) - 0.15)\n",
    "    return np.array(image_path), np.array(steering)\n"
   ]
  },
  {
   "cell_type": "code",
   "execution_count": 9,
   "id": "d9b5345e",
   "metadata": {},
   "outputs": [
    {
     "name": "stderr",
     "output_type": "stream",
     "text": [
      "/tmp/ipykernel_9919/3845878413.py:6: FutureWarning: Series.__getitem__ treating keys as positions is deprecated. In a future version, integer keys will always be treated as labels (consistent with DataFrame behavior). To access a value by position, use `ser.iloc[pos]`\n",
      "  center, left, right = indexed_data[0], indexed_data[1], indexed_data[2]\n",
      "/tmp/ipykernel_9919/3845878413.py:8: FutureWarning: Series.__getitem__ treating keys as positions is deprecated. In a future version, integer keys will always be treated as labels (consistent with DataFrame behavior). To access a value by position, use `ser.iloc[pos]`\n",
      "  steering.append(float(indexed_data[3]))\n",
      "/tmp/ipykernel_9919/3845878413.py:11: FutureWarning: Series.__getitem__ treating keys as positions is deprecated. In a future version, integer keys will always be treated as labels (consistent with DataFrame behavior). To access a value by position, use `ser.iloc[pos]`\n",
      "  steering.append(float(indexed_data[3]) + 0.15)\n",
      "/tmp/ipykernel_9919/3845878413.py:14: FutureWarning: Series.__getitem__ treating keys as positions is deprecated. In a future version, integer keys will always be treated as labels (consistent with DataFrame behavior). To access a value by position, use `ser.iloc[pos]`\n",
      "  steering.append(float(indexed_data[3]) - 0.15)\n"
     ]
    }
   ],
   "source": [
    "\n",
    "image_paths, steerings = load_img_steering(os.path.join(datadir, 'IMG'), data)\n"
   ]
  },
  {
   "cell_type": "code",
   "execution_count": 10,
   "id": "b9440881",
   "metadata": {},
   "outputs": [
    {
     "name": "stdout",
     "output_type": "stream",
     "text": [
      "Training Samples: 3511\n",
      "Valid Samples: 878\n"
     ]
    }
   ],
   "source": [
    "\n",
    "X_train, X_valid, y_train, y_valid = train_test_split(\n",
    "    image_paths, steerings, test_size=0.2, random_state=6\n",
    ")\n",
    "print(f'Training Samples: {len(X_train)}\\nValid Samples: {len(X_valid)}')\n"
   ]
  },
  {
   "cell_type": "code",
   "execution_count": 11,
   "id": "783122f5",
   "metadata": {},
   "outputs": [],
   "source": [
    "\n",
    "class DrivingDataset(Dataset):\n",
    "    def __init__(self, image_paths, steering_angles, is_training=True):\n",
    "        self.image_paths = image_paths\n",
    "        self.steering_angles = steering_angles\n",
    "        self.is_training = is_training\n",
    "\n",
    "    def __len__(self):\n",
    "        return len(self.image_paths)\n",
    "\n",
    "    def __getitem__(self, idx):\n",
    "        img_path = self.image_paths[idx]\n",
    "        steering = self.steering_angles[idx]\n",
    "\n",
    "        image = mpimg.imread(img_path)\n",
    "\n",
    "        if self.is_training and random.random() < 0.5:\n",
    "            image, steering = self.random_augment(image, steering)\n",
    "\n",
    "        image = self.preprocess(image)\n",
    "        return image, torch.tensor(steering, dtype=torch.float32)\n",
    "\n",
    "    def random_augment(self, image, steering):\n",
    "        if np.random.rand() < 0.5:\n",
    "            image = iaa.Affine(translate_percent={\n",
    "                               \"x\": (-0.1, 0.1), \"y\": (-0.1, 0.1)}).augment_image(image)\n",
    "        if np.random.rand() < 0.5:\n",
    "            image = iaa.Affine(scale=(1, 1.3)).augment_image(image)\n",
    "        if np.random.rand() < 0.5:\n",
    "            image = iaa.Multiply((0.2, 1.2)).augment_image(image)\n",
    "        if np.random.rand() < 0.5:\n",
    "            image = cv2.flip(image, 1)\n",
    "            steering = -steering\n",
    "        return image, steering\n",
    "\n",
    "    def preprocess(self, image):\n",
    "        image = image[60:135, :, :]\n",
    "        image = cv2.cvtColor(image, cv2.COLOR_RGB2YUV)\n",
    "        image = cv2.GaussianBlur(image, (3, 3), 0)\n",
    "        image = cv2.resize(image, (200, 66))\n",
    "        image = image.astype(np.float32) / 255.0\n",
    "        image = torch.from_numpy(image).permute(2, 0, 1)  # HWC to CHW\n",
    "        return image\n",
    "\n"
   ]
  },
  {
   "cell_type": "code",
   "execution_count": 12,
   "id": "78bf92b4",
   "metadata": {},
   "outputs": [],
   "source": [
    "\n",
    "BATCH_SIZE = 100\n",
    "train_dataset = DrivingDataset(X_train, y_train, is_training=True)\n",
    "valid_dataset = DrivingDataset(X_valid, y_valid, is_training=False)\n",
    "\n",
    "train_loader = DataLoader(\n",
    "    train_dataset,\n",
    "    batch_size=BATCH_SIZE,\n",
    "    shuffle=True,\n",
    "    num_workers=4,\n",
    "    pin_memory=True\n",
    ")\n",
    "\n",
    "valid_loader = DataLoader(\n",
    "    valid_dataset,\n",
    "    batch_size=BATCH_SIZE,\n",
    "    shuffle=False,\n",
    "    num_workers=4,\n",
    "    pin_memory=True\n",
    ")\n"
   ]
  },
  {
   "cell_type": "code",
   "execution_count": 13,
   "id": "2c1e2f74",
   "metadata": {},
   "outputs": [],
   "source": [
    "\n",
    "class NVIDIA_Model(nn.Module):\n",
    "    def __init__(self):\n",
    "        super().__init__()\n",
    "        self.conv_layers = nn.Sequential(\n",
    "            nn.Conv2d(3, 24, 5, stride=2),\n",
    "            nn.ELU(),\n",
    "            nn.Conv2d(24, 36, 5, stride=2),\n",
    "            nn.ELU(),\n",
    "            nn.Conv2d(36, 48, 5, stride=2),\n",
    "            nn.ELU(),\n",
    "            nn.Conv2d(48, 64, 3),\n",
    "            nn.ELU(),\n",
    "            nn.Conv2d(64, 64, 3),\n",
    "            nn.ELU(),\n",
    "            nn.Dropout(0.5)\n",
    "        )\n",
    "        self.linear_layers = nn.Sequential(\n",
    "            nn.Linear(1152, 100),\n",
    "            nn.ELU(),\n",
    "            nn.Linear(100, 50),\n",
    "            nn.ELU(),\n",
    "            nn.Linear(50, 10),\n",
    "            nn.ELU(),\n",
    "            nn.Linear(10, 1)\n",
    "        )\n",
    "\n",
    "    def forward(self, x):\n",
    "        x = self.conv_layers(x)\n",
    "        x = x.view(x.size(0), -1)\n",
    "        x = self.linear_layers(x)\n",
    "        return x\n",
    "\n",
    "\n",
    "model = NVIDIA_Model().to(device)\n",
    "optimizer = optim.Adam(model.parameters(), lr=1e-3)\n",
    "criterion = nn.MSELoss()\n"
   ]
  },
  {
   "cell_type": "code",
   "execution_count": 14,
   "id": "96a6e600",
   "metadata": {},
   "outputs": [],
   "source": [
    "\n",
    "def train(model, train_loader, valid_loader, epochs):\n",
    "    train_losses, val_losses = [], []\n",
    "    for epoch in range(epochs):\n",
    "        model.train()\n",
    "        running_loss = 0.0\n",
    "        for images, labels in train_loader:\n",
    "            images, labels = images.to(device), labels.to(device)\n",
    "\n",
    "            optimizer.zero_grad()\n",
    "            outputs = model(images)\n",
    "            loss = criterion(outputs.squeeze(), labels)\n",
    "            loss.backward()\n",
    "            optimizer.step()\n",
    "\n",
    "            running_loss += loss.item() * images.size(0)\n",
    "\n",
    "        epoch_loss = running_loss / len(train_loader.dataset)\n",
    "        train_losses.append(epoch_loss)\n",
    "\n",
    "        # Validation\n",
    "        model.eval()\n",
    "        val_loss = 0.0\n",
    "        with torch.no_grad():\n",
    "            for images, labels in valid_loader:\n",
    "                images, labels = images.to(device), labels.to(device)\n",
    "                outputs = model(images)\n",
    "                val_loss += criterion(outputs.squeeze(),\n",
    "                                      labels).item() * images.size(0)\n",
    "\n",
    "        val_loss /= len(valid_loader.dataset)\n",
    "        val_losses.append(val_loss)\n",
    "\n",
    "        print(f'Epoch {epoch+1}/{epochs}')\n",
    "        print(f'Train Loss: {epoch_loss:.4f} | Val Loss: {val_loss:.4f}')\n",
    "\n",
    "    return train_losses, val_losses\n",
    "\n"
   ]
  },
  {
   "cell_type": "code",
   "execution_count": 18,
   "id": "aafa5b28",
   "metadata": {},
   "outputs": [
    {
     "name": "stdout",
     "output_type": "stream",
     "text": [
      "Epoch 1/10\n",
      "Train Loss: 0.1135 | Val Loss: 0.1138\n",
      "Epoch 2/10\n",
      "Train Loss: 0.0922 | Val Loss: 0.0868\n",
      "Epoch 3/10\n",
      "Train Loss: 0.0835 | Val Loss: 0.0760\n",
      "Epoch 4/10\n",
      "Train Loss: 0.0755 | Val Loss: 0.0589\n",
      "Epoch 5/10\n",
      "Train Loss: 0.0687 | Val Loss: 0.0572\n",
      "Epoch 6/10\n",
      "Train Loss: 0.0650 | Val Loss: 0.0550\n",
      "Epoch 7/10\n",
      "Train Loss: 0.0618 | Val Loss: 0.0511\n",
      "Epoch 8/10\n",
      "Train Loss: 0.0626 | Val Loss: 0.0531\n",
      "Epoch 9/10\n",
      "Train Loss: 0.0602 | Val Loss: 0.0429\n",
      "Epoch 10/10\n",
      "Train Loss: 0.0582 | Val Loss: 0.0569\n"
     ]
    }
   ],
   "source": [
    "\n",
    "EPOCHS = 10\n",
    "train_losses, val_losses = train(model, train_loader, valid_loader, EPOCHS)\n"
   ]
  },
  {
   "cell_type": "code",
   "execution_count": 19,
   "id": "ab050773",
   "metadata": {},
   "outputs": [
    {
     "data": {
      "text/plain": [
       "Text(0, 0.5, 'Loss')"
      ]
     },
     "execution_count": 19,
     "metadata": {},
     "output_type": "execute_result"
    },
    {
     "data": {
      "image/png": "[encoded data removed]",
      "text/plain": [
       "<Figure size 640x480 with 1 Axes>"
      ]
     },
     "metadata": {},
     "output_type": "display_data"
    }
   ],
   "source": [
    "\n",
    "plt.plot(train_losses, label='Training Loss')\n",
    "plt.plot(val_losses, label='Validation Loss')\n",
    "plt.legend()\n",
    "plt.title('Loss Curve')\n",
    "plt.xlabel('Epoch')\n",
    "plt.ylabel('Loss')\n"
   ]
  },
  {
   "cell_type": "code",
   "execution_count": 17,
   "id": "8e15bf0a",
   "metadata": {},
   "outputs": [],
   "source": [
    "\n",
    "torch.save(model.state_dict(), 'torchmodel/ported-torch-model.pth')"
   ]
  }
 ],
 "metadata": {
  "kernelspec": {
   "display_name": "Python 3",
   "language": "python",
   "name": "python3"
  },
  "language_info": {
   "codemirror_mode": {
    "name": "ipython",
    "version": 3
   },
   "file_extension": ".py",
   "mimetype": "text/x-python",
   "name": "python",
   "nbconvert_exporter": "python",
   "pygments_lexer": "ipython3",
   "version": "3.9.17"
  }
 },
 "nbformat": 4,
 "nbformat_minor": 5
}
